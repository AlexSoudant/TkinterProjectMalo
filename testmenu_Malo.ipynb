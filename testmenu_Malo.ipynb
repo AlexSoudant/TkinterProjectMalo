{
 "cells": [
  {
   "cell_type": "code",
   "execution_count": 3,
   "metadata": {
    "collapsed": false
   },
   "outputs": [],
   "source": [
    "import Tkinter as tk"
   ]
  },
  {
   "cell_type": "code",
   "execution_count": 11,
   "metadata": {
    "collapsed": false
   },
   "outputs": [],
   "source": [
    "\n",
    "LARGE_FONT= (\"Verdana\", 12)\n",
    "\n",
    "class SeaofBTCapp(tk.Tk):\n",
    "\n",
    "    def __init__(self, *args, **kwargs):\n",
    "        \n",
    "        tk.Tk.__init__(self, *args, **kwargs)\n",
    "        container = tk.Frame(self)\n",
    "\n",
    "        container.pack(side=\"top\", fill=\"both\", expand = True)\n",
    "\n",
    "        container.grid_rowconfigure(0, weight=1)\n",
    "        container.grid_columnconfigure(0, weight=1)\n",
    "\n",
    "        self.frames = {}\n",
    "\n",
    "        for F in (StartPage, PageOne, PageTwo):\n",
    "\n",
    "            frame = F(container, self)\n",
    "\n",
    "            self.frames[F] = frame\n",
    "\n",
    "            frame.grid(row=0, column=0, sticky=\"nsew\")\n",
    "\n",
    "        self.show_frame(StartPage)\n",
    "\n",
    "    def show_frame(self, cont):\n",
    "\n",
    "        frame = self.frames[cont]\n",
    "        frame.tkraise()\n",
    "    \n",
    "\n",
    "        \n",
    "def qf(quickPrint):\n",
    "    print(quickPrint)\n",
    "        \n",
    "class StartPage(tk.Frame):\n",
    "\n",
    "    def __init__(self, parent, controller):\n",
    "        tk.Frame.__init__(self,parent)\n",
    "        label = tk.Label(self, text=\"Start Page\", font=LARGE_FONT)\n",
    "        label.pack(pady=10,padx=10)\n",
    "        \n",
    "        button = tk.Button(self, text=\"Visit Page 1\",\n",
    "                            command=lambda: controller.show_frame(PageOne))\n",
    "        button.pack()\n",
    "\n",
    "        button2 = tk.Button(self, text=\"Visit Page 2\",\n",
    "                            command=lambda: controller.show_frame(PageTwo))\n",
    "        button2.pack()\n",
    "\n",
    "class PageOne(tk.Frame):\n",
    "\n",
    "    def __init__(self, parent, controller):\n",
    "        tk.Frame.__init__(self, parent)\n",
    "        label = tk.Label(self, text=\"Page One!!!\", font=LARGE_FONT)\n",
    "        label.pack(pady=10,padx=10)\n",
    "\n",
    "        button1 = tk.Button(self, text=\"Back to Home\",\n",
    "                            command=lambda: controller.show_frame(StartPage))\n",
    "        button1.pack()\n",
    "\n",
    "        button2 = tk.Button(self, text=\"Page Two\",\n",
    "                            command=lambda: controller.show_frame(PageTwo))\n",
    "        button2.pack()\n",
    "\n",
    "\n",
    "class PageTwo(tk.Frame):\n",
    "\n",
    "    def __init__(self, parent, controller):\n",
    "        tk.Frame.__init__(self, parent)\n",
    "        label = tk.Label(self, text=\"Page Two!!!\", font=LARGE_FONT)\n",
    "        label.pack(pady=10,padx=10)\n",
    "\n",
    "        button1 = tk.Button(self, text=\"Back to Home\",\n",
    "                            command=lambda: controller.show_frame(StartPage))\n",
    "        button1.pack()\n",
    "\n",
    "        button2 = tk.Button(self, text=\"Page One\",\n",
    "                            command=lambda: controller.show_frame(PageOne))\n",
    "        button2.pack()\n",
    "\n",
    "\n",
    "\n",
    "app = SeaofBTCapp()\n",
    "app.mainloop()\n",
    "\n",
    "        \n"
   ]
  },
  {
   "cell_type": "code",
   "execution_count": null,
   "metadata": {
    "collapsed": true
   },
   "outputs": [],
   "source": []
  }
 ],
 "metadata": {
  "anaconda-cloud": {},
  "kernelspec": {
   "display_name": "Python [conda root]",
   "language": "python",
   "name": "conda-root-py"
  },
  "language_info": {
   "codemirror_mode": {
    "name": "ipython",
    "version": 2
   },
   "file_extension": ".py",
   "mimetype": "text/x-python",
   "name": "python",
   "nbconvert_exporter": "python",
   "pygments_lexer": "ipython2",
   "version": "2.7.12"
  }
 },
 "nbformat": 4,
 "nbformat_minor": 1
}
